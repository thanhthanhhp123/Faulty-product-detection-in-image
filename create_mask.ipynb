{
 "cells": [
  {
   "cell_type": "code",
   "execution_count": 5,
   "metadata": {},
   "outputs": [],
   "source": [
    "import cv2\n",
    "import numpy as np\n",
    "import matplotlib.pyplot as plt\n",
    "from PIL import Image\n",
    "from tensorflow.keras.preprocessing.image import ImageDataGenerator"
   ]
  },
  {
   "cell_type": "code",
   "execution_count": 7,
   "metadata": {},
   "outputs": [],
   "source": [
    "img = cv2.imread('/Users/tranthanh/Documents/Deep Learning/Faulty-product-detection-in-image/bottle/ground_truth/good/000_mask.png')"
   ]
  },
  {
   "cell_type": "code",
   "execution_count": 8,
   "metadata": {},
   "outputs": [
    {
     "data": {
      "text/plain": [
       "(900, 900, 3)"
      ]
     },
     "execution_count": 8,
     "metadata": {},
     "output_type": "execute_result"
    }
   ],
   "source": [
    "img.shape"
   ]
  },
  {
   "cell_type": "code",
   "execution_count": 3,
   "metadata": {},
   "outputs": [
    {
     "name": "stdout",
     "output_type": "stream",
     "text": [
      "900 900 3\n"
     ]
    }
   ],
   "source": [
    "h, w, c = img.shape\n",
    "print(h, w, c)"
   ]
  },
  {
   "cell_type": "code",
   "execution_count": 12,
   "metadata": {},
   "outputs": [],
   "source": [
    "for i in range(1, 20):\n",
    "    img_ = np.copy(img)\n",
    "    img_ = img_ / 255.\n",
    "\n",
    "    cv2.imwrite(\n",
    "        '/Users/tranthanh/Documents/Deep Learning/Faulty-product-detection-in-image/bottle/ground_truth/good/000_mask.png',\n",
    "        img_\n",
    "    )"
   ]
  },
  {
   "cell_type": "code",
   "execution_count": null,
   "metadata": {},
   "outputs": [],
   "source": [
    "ds = create_gens(\n",
    "    img_dir = '/content/Faulty-product-detection-in-image/bottle/image',\n",
    "    mask_dir = '/content/Faulty-product-detection-in-image/bottle/ground_truth',\n",
    "    aug_dict = tr_aug_dict\n",
    ")\n",
    "\n",
    "train_ds = ds['train']"
   ]
  }
 ],
 "metadata": {
  "kernelspec": {
   "display_name": "base",
   "language": "python",
   "name": "python3"
  },
  "language_info": {
   "codemirror_mode": {
    "name": "ipython",
    "version": 3
   },
   "file_extension": ".py",
   "mimetype": "text/x-python",
   "name": "python",
   "nbconvert_exporter": "python",
   "pygments_lexer": "ipython3",
   "version": "3.11.5"
  }
 },
 "nbformat": 4,
 "nbformat_minor": 2
}
